{
 "cells": [
  {
   "cell_type": "code",
   "execution_count": 1,
   "id": "cdc65b2d-9855-4b16-92b8-7bc88b6bea89",
   "metadata": {},
   "outputs": [
    {
     "name": "stdout",
     "output_type": "stream",
     "text": [
      "notebook\n"
     ]
    }
   ],
   "source": [
    "print('notebook')"
   ]
  },
  {
   "cell_type": "code",
   "execution_count": 5,
   "id": "80c24381",
   "metadata": {},
   "outputs": [],
   "source": [
    "import torch"
   ]
  },
  {
   "cell_type": "code",
   "execution_count": 3,
   "id": "0f2b9260",
   "metadata": {},
   "outputs": [
    {
     "data": {
      "text/plain": [
       "'1.12.0'"
      ]
     },
     "execution_count": 3,
     "metadata": {},
     "output_type": "execute_result"
    }
   ],
   "source": [
    "torch.__version__"
   ]
  },
  {
   "cell_type": "code",
   "execution_count": null,
   "id": "2f05dc2d",
   "metadata": {},
   "outputs": [],
   "source": []
  },
  {
   "cell_type": "markdown",
   "id": "cd40ff83",
   "metadata": {},
   "source": [
    "Dear Guys,\n",
    "This is my first test of using git and VS code, hope will do well in the future"
   ]
  },
  {
   "cell_type": "code",
   "execution_count": 1,
   "id": "e344be31",
   "metadata": {},
   "outputs": [],
   "source": [
    "import numpy as np"
   ]
  },
  {
   "cell_type": "code",
   "execution_count": 3,
   "id": "83b95ce5",
   "metadata": {},
   "outputs": [
    {
     "data": {
      "text/plain": [
       "array([4.64476683e-310, 0.00000000e+000, 5.53353523e-322])"
      ]
     },
     "execution_count": 3,
     "metadata": {},
     "output_type": "execute_result"
    }
   ],
   "source": [
    "np.ndarray(3)"
   ]
  },
  {
   "cell_type": "code",
   "execution_count": 8,
   "id": "002d0fd1",
   "metadata": {},
   "outputs": [
    {
     "data": {
      "text/plain": [
       "tensor(33)"
      ]
     },
     "execution_count": 8,
     "metadata": {},
     "output_type": "execute_result"
    }
   ],
   "source": [
    "torch.tensor(33)"
   ]
  },
  {
   "cell_type": "code",
   "execution_count": null,
   "id": "b24c571b",
   "metadata": {},
   "outputs": [],
   "source": []
  }
 ],
 "metadata": {
  "kernelspec": {
   "display_name": "Python 3.9.13 ('base')",
   "language": "python",
   "name": "python3"
  },
  "language_info": {
   "codemirror_mode": {
    "name": "ipython",
    "version": 3
   },
   "file_extension": ".py",
   "mimetype": "text/x-python",
   "name": "python",
   "nbconvert_exporter": "python",
   "pygments_lexer": "ipython3",
   "version": "3.9.13"
  },
  "vscode": {
   "interpreter": {
    "hash": "f92b995b0137b6c88200666b7fdd359def9d8ae7ca67b4b7852a9d95064f7e5c"
   }
  }
 },
 "nbformat": 4,
 "nbformat_minor": 5
}
